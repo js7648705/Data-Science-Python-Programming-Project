{
 "cells": [
  {
   "cell_type": "markdown",
   "metadata": {},
   "source": [
    "## Importing required libraries"
   ]
  },
  {
   "cell_type": "code",
   "execution_count": null,
   "metadata": {},
   "outputs": [],
   "source": [
    "import pandas as pd"
   ]
  },
  {
   "cell_type": "markdown",
   "metadata": {},
   "source": [
    "## Reading in csv data file"
   ]
  },
  {
   "cell_type": "code",
   "execution_count": 3,
   "metadata": {},
   "outputs": [],
   "source": [
    "file = pd.read_csv('outcome-of-care-measures.csv')"
   ]
  },
  {
   "cell_type": "markdown",
   "metadata": {},
   "source": [
    "## Data information"
   ]
  },
  {
   "cell_type": "markdown",
   "metadata": {},
   "source": [
    "The data has 4706 observations and 4 columns"
   ]
  },
  {
   "cell_type": "code",
   "execution_count": 5,
   "metadata": {},
   "outputs": [
    {
     "name": "stdout",
     "output_type": "stream",
     "text": [
      "<class 'pandas.core.frame.DataFrame'>\n",
      "RangeIndex: 4706 entries, 0 to 4705\n",
      "Data columns (total 46 columns):\n",
      " #   Column                                                                                 Non-Null Count  Dtype  \n",
      "---  ------                                                                                 --------------  -----  \n",
      " 0   Provider Number                                                                        4706 non-null   object \n",
      " 1   Hospital Name                                                                          4706 non-null   object \n",
      " 2   Address 1                                                                              4706 non-null   object \n",
      " 3   Address 2                                                                              0 non-null      float64\n",
      " 4   Address 3                                                                              0 non-null      float64\n",
      " 5   City                                                                                   4706 non-null   object \n",
      " 6   State                                                                                  4706 non-null   object \n",
      " 7   ZIP Code                                                                               4706 non-null   int64  \n",
      " 8   County Name                                                                            4706 non-null   object \n",
      " 9   Phone Number                                                                           4706 non-null   int64  \n",
      " 10  Hospital 30-Day Death (Mortality) Rates from Heart Attack                              4706 non-null   object \n",
      " 11  Comparison to U.S. Rate - Hospital 30-Day Death (Mortality) Rates from Heart Attack    4706 non-null   object \n",
      " 12  Lower Mortality Estimate - Hospital 30-Day Death (Mortality) Rates from Heart Attack   4706 non-null   object \n",
      " 13  Upper Mortality Estimate - Hospital 30-Day Death (Mortality) Rates from Heart Attack   4706 non-null   object \n",
      " 14  Number of Patients - Hospital 30-Day Death (Mortality) Rates from Heart Attack         4706 non-null   object \n",
      " 15  Footnote - Hospital 30-Day Death (Mortality) Rates from Heart Attack                   1986 non-null   object \n",
      " 16  Hospital 30-Day Death (Mortality) Rates from Heart Failure                             4706 non-null   object \n",
      " 17  Comparison to U.S. Rate - Hospital 30-Day Death (Mortality) Rates from Heart Failure   4706 non-null   object \n",
      " 18  Lower Mortality Estimate - Hospital 30-Day Death (Mortality) Rates from Heart Failure  4706 non-null   object \n",
      " 19  Upper Mortality Estimate - Hospital 30-Day Death (Mortality) Rates from Heart Failure  4706 non-null   object \n",
      " 20  Number of Patients - Hospital 30-Day Death (Mortality) Rates from Heart Failure        4706 non-null   object \n",
      " 21  Footnote - Hospital 30-Day Death (Mortality) Rates from Heart Failure                  759 non-null    object \n",
      " 22  Hospital 30-Day Death (Mortality) Rates from Pneumonia                                 4706 non-null   object \n",
      " 23  Comparison to U.S. Rate - Hospital 30-Day Death (Mortality) Rates from Pneumonia       4706 non-null   object \n",
      " 24  Lower Mortality Estimate - Hospital 30-Day Death (Mortality) Rates from Pneumonia      4706 non-null   object \n",
      " 25  Upper Mortality Estimate - Hospital 30-Day Death (Mortality) Rates from Pneumonia      4706 non-null   object \n",
      " 26  Number of Patients - Hospital 30-Day Death (Mortality) Rates from Pneumonia            4706 non-null   object \n",
      " 27  Footnote - Hospital 30-Day Death (Mortality) Rates from Pneumonia                      473 non-null    object \n",
      " 28  Hospital 30-Day Readmission Rates from Heart Attack                                    4706 non-null   object \n",
      " 29  Comparison to U.S. Rate - Hospital 30-Day Readmission Rates from Heart Attack          4706 non-null   object \n",
      " 30  Lower Readmission Estimate - Hospital 30-Day Readmission Rates from Heart Attack       4706 non-null   object \n",
      " 31  Upper Readmission Estimate - Hospital 30-Day Readmission Rates from Heart Attack       4706 non-null   object \n",
      " 32  Number of Patients - Hospital 30-Day Readmission Rates from Heart Attack               4706 non-null   object \n",
      " 33  Footnote - Hospital 30-Day Readmission Rates from Heart Attack                         2334 non-null   object \n",
      " 34  Hospital 30-Day Readmission Rates from Heart Failure                                   4706 non-null   object \n",
      " 35  Comparison to U.S. Rate - Hospital 30-Day Readmission Rates from Heart Failure         4706 non-null   object \n",
      " 36  Lower Readmission Estimate - Hospital 30-Day Readmission Rates from Heart Failure      4706 non-null   object \n",
      " 37  Upper Readmission Estimate - Hospital 30-Day Readmission Rates from Heart Failure      4706 non-null   object \n",
      " 38  Number of Patients - Hospital 30-Day Readmission Rates from Heart Failure              4706 non-null   object \n",
      " 39  Footnote - Hospital 30-Day Readmission Rates from Heart Failure                        681 non-null    object \n",
      " 40  Hospital 30-Day Readmission Rates from Pneumonia                                       4706 non-null   object \n",
      " 41  Comparison to U.S. Rate - Hospital 30-Day Readmission Rates from Pneumonia             4706 non-null   object \n",
      " 42  Lower Readmission Estimate - Hospital 30-Day Readmission Rates from Pneumonia          4706 non-null   object \n",
      " 43  Upper Readmission Estimate - Hospital 30-Day Readmission Rates from Pneumonia          4706 non-null   object \n",
      " 44  Number of Patients - Hospital 30-Day Readmission Rates from Pneumonia                  4706 non-null   object \n",
      " 45  Footnote - Hospital 30-Day Readmission Rates from Pneumonia                            459 non-null    object \n",
      "dtypes: float64(2), int64(2), object(42)\n",
      "memory usage: 1.7+ MB\n"
     ]
    }
   ],
   "source": [
    "file.info()"
   ]
  },
  {
   "cell_type": "code",
   "execution_count": 11,
   "metadata": {},
   "outputs": [
    {
     "name": "stdout",
     "output_type": "stream",
     "text": [
      "  Provider Number                     Hospital Name  \\\n",
      "0          010001  SOUTHEAST ALABAMA MEDICAL CENTER   \n",
      "1          010005     MARSHALL MEDICAL CENTER SOUTH   \n",
      "2          010006    ELIZA COFFEE MEMORIAL HOSPITAL   \n",
      "3          010007          MIZELL MEMORIAL HOSPITAL   \n",
      "4          010008       CRENSHAW COMMUNITY HOSPITAL   \n",
      "\n",
      "                    Address 1  Address 2  Address 3      City State  ZIP Code  \\\n",
      "0      1108 ROSS CLARK CIRCLE        NaN        NaN    DOTHAN    AL     36301   \n",
      "1  2505 U S HIGHWAY 431 NORTH        NaN        NaN      BOAZ    AL     35957   \n",
      "2          205 MARENGO STREET        NaN        NaN  FLORENCE    AL     35631   \n",
      "3               702 N MAIN ST        NaN        NaN       OPP    AL     36467   \n",
      "4         101 HOSPITAL CIRCLE        NaN        NaN   LUVERNE    AL     36049   \n",
      "\n",
      "  County Name  Phone Number  ...  \\\n",
      "0     HOUSTON    3347938701  ...   \n",
      "1    MARSHALL    2565938310  ...   \n",
      "2  LAUDERDALE    2567688400  ...   \n",
      "3   COVINGTON    3344933541  ...   \n",
      "4    CRENSHAW    3343353374  ...   \n",
      "\n",
      "  Lower Readmission Estimate - Hospital 30-Day Readmission Rates from Heart Failure  \\\n",
      "0                                               21.3                                  \n",
      "1                                               19.2                                  \n",
      "2                                               17.2                                  \n",
      "3                                               22.4                                  \n",
      "4                                               19.9                                  \n",
      "\n",
      "  Upper Readmission Estimate - Hospital 30-Day Readmission Rates from Heart Failure  \\\n",
      "0                                               26.5                                  \n",
      "1                                               26.1                                  \n",
      "2                                               22.9                                  \n",
      "3                                               31.9                                  \n",
      "4                                               30.2                                  \n",
      "\n",
      "  Number of Patients - Hospital 30-Day Readmission Rates from Heart Failure  \\\n",
      "0                                                891                          \n",
      "1                                                264                          \n",
      "2                                                614                          \n",
      "3                                                135                          \n",
      "4                                                 59                          \n",
      "\n",
      "  Footnote - Hospital 30-Day Readmission Rates from Heart Failure  \\\n",
      "0                                                NaN                \n",
      "1                                                NaN                \n",
      "2                                                NaN                \n",
      "3                                                NaN                \n",
      "4                                                NaN                \n",
      "\n",
      "  Hospital 30-Day Readmission Rates from Pneumonia  \\\n",
      "0                                             17.1   \n",
      "1                                             17.6   \n",
      "2                                             16.9   \n",
      "3                                             19.4   \n",
      "4                                             18.0   \n",
      "\n",
      "  Comparison to U.S. Rate - Hospital 30-Day Readmission Rates from Pneumonia  \\\n",
      "0               No Different than U.S. National Rate                           \n",
      "1               No Different than U.S. National Rate                           \n",
      "2               No Different than U.S. National Rate                           \n",
      "3               No Different than U.S. National Rate                           \n",
      "4               No Different than U.S. National Rate                           \n",
      "\n",
      "  Lower Readmission Estimate - Hospital 30-Day Readmission Rates from Pneumonia  \\\n",
      "0                                               14.4                              \n",
      "1                                               15.0                              \n",
      "2                                               14.7                              \n",
      "3                                               15.9                              \n",
      "4                                               14.0                              \n",
      "\n",
      "  Upper Readmission Estimate - Hospital 30-Day Readmission Rates from Pneumonia  \\\n",
      "0                                               20.4                              \n",
      "1                                               20.6                              \n",
      "2                                               19.5                              \n",
      "3                                               23.2                              \n",
      "4                                               22.8                              \n",
      "\n",
      "  Number of Patients - Hospital 30-Day Readmission Rates from Pneumonia  \\\n",
      "0                                                400                      \n",
      "1                                                374                      \n",
      "2                                                842                      \n",
      "3                                                254                      \n",
      "4                                                 56                      \n",
      "\n",
      "  Footnote - Hospital 30-Day Readmission Rates from Pneumonia  \n",
      "0                                                NaN           \n",
      "1                                                NaN           \n",
      "2                                                NaN           \n",
      "3                                                NaN           \n",
      "4                                                NaN           \n",
      "\n",
      "[5 rows x 46 columns]\n"
     ]
    }
   ],
   "source": [
    "print(file.head())"
   ]
  },
  {
   "cell_type": "code",
   "execution_count": null,
   "metadata": {},
   "outputs": [],
   "source": []
  }
 ],
 "metadata": {
  "kernelspec": {
   "display_name": "Python 3",
   "language": "python",
   "name": "python3"
  },
  "language_info": {
   "codemirror_mode": {
    "name": "ipython",
    "version": 3
   },
   "file_extension": ".py",
   "mimetype": "text/x-python",
   "name": "python",
   "nbconvert_exporter": "python",
   "pygments_lexer": "ipython3",
   "version": "3.8.5"
  }
 },
 "nbformat": 4,
 "nbformat_minor": 4
}
