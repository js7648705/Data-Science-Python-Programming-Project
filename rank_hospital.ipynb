{
 "cells": [
  {
   "cell_type": "markdown",
   "metadata": {},
   "source": [
    "## Importing required libraries"
   ]
  },
  {
   "cell_type": "code",
   "execution_count": 165,
   "metadata": {},
   "outputs": [],
   "source": [
    "import pandas as pd\n",
    "import numpy as np\n",
    "import matplotlib.pyplot as plt\n",
    "import seaborn as sns\n",
    "%matplotlib inline"
   ]
  },
  {
   "cell_type": "markdown",
   "metadata": {},
   "source": [
    "##  Ranking hospitals by outcome in a state"
   ]
  },
  {
   "cell_type": "code",
   "execution_count": 181,
   "metadata": {},
   "outputs": [],
   "source": [
    "def hospital_rank (state,outcome,Rank):\n",
    "     # loading csv file\n",
    "    file = pd.read_csv('outcome-of-care-measures.csv')\n",
    "    \n",
    "    # list of csv columns,all columns are character columns-data values are in \n",
    "    # string format converting data into dataframe\n",
    "    list_csv_col = [file.columns[1], file.columns[6],file.columns[10], file.columns[16],\n",
    "                    file.columns[22]]\n",
    "    \n",
    "    # all columns are character columns-data values are in string format\n",
    "    # converting list in to a dataframe\n",
    "    df = pd.DataFrame(data = file[list_csv_col])\n",
    "    \n",
    "    # naming columns 2-5 columns are outcomes\n",
    "    df.columns = ['Hospital.Name','State','Heart.attack', 'Heart.failure ','Pneumonia']\n",
    "    \n",
    "    # checking if a state is present in column 'State'\n",
    "    if state not in df['State'].values: \n",
    "        return (\"Invalid Sate\")\n",
    "    \n",
    "    # checking if a outcome is present in column 2-5\n",
    "    elif outcome not in df.columns[2:5]: # \n",
    "         return (\"Invalid Outcome\")\n",
    "        \n",
    "    else:\n",
    "        # slicing dataframe based on condition\n",
    "        df1 = df[(df['State'] ==state)][['State','Hospital.Name',outcome]]\n",
    "        \n",
    "        # converting character column (numbers are in string format) to numeric,\n",
    "        # and replacing missing values and string (in this case 'Not Available') \n",
    "        # into NAN (setting errors=’coerce)\n",
    "        df1[outcome]= pd.to_numeric(df1[outcome],errors='coerce') \n",
    "        \n",
    "        # droping NAN in outcome column\n",
    "        df1 = df1.dropna(subset =[outcome]) \n",
    "        \n",
    "        # sorting dataframe by Hopsital.name first then by outcome\n",
    "        df1 =df1.sort_values(by = [outcome,'Hospital.Name']) \n",
    "        \n",
    "        # creating index valuse from 1 to no. of rows [df1.shape[0]] of df1\n",
    "        df1.index = [i for i in range(1, df1.shape[0]+1)] \n",
    "        \n",
    "        try:\n",
    "            # checking if rank is integer\n",
    "            rank = int(Rank) \n",
    "            \n",
    "            # if rank is not present in the index = no of rows(df1.shape[0])   \n",
    "            if rank > df1.shape[0]: \n",
    "                \n",
    "                # output is \"NA\"\n",
    "                return(\"NA\") \n",
    "            \n",
    "            else: \n",
    "                # if rank is present in the index = no of rows(df1.shape[0])\n",
    "                # extarcting observation correspond to [row index, column index]\n",
    "                hospital_name = df1.at[rank,'Hospital.Name']\n",
    "                \n",
    "                # output hospital.name\n",
    "                return(hospital_name) \n",
    "            \n",
    "        # if rank is string   \n",
    "        except ValueError: \n",
    "            rank =str(Rank)\n",
    "                \n",
    "            if rank =='best':\n",
    "                hospital_name = df1.at[1,'Hospital.Name'] # extarcting observation\n",
    "                # correspond to [1, column index]\n",
    "                \n",
    "                return(hospital_name)\n",
    "            \n",
    "            if rank =='worst':\n",
    "                hospital_name = df1.at[df1.shape[0],'Hospital.Name']  # extarcting observation \n",
    "                # correspond to [last index, column index]\n",
    "                \n",
    "                return(hospital_name)\n",
    "       "
   ]
  },
  {
   "cell_type": "code",
   "execution_count": 176,
   "metadata": {},
   "outputs": [
    {
     "data": {
      "text/plain": [
       "'Invalid Sate'"
      ]
     },
     "execution_count": 176,
     "metadata": {},
     "output_type": "execute_result"
    }
   ],
   "source": [
    "hospital_rank(\"Mz\",\"Heart.attack\",'best')"
   ]
  },
  {
   "cell_type": "code",
   "execution_count": 177,
   "metadata": {},
   "outputs": [
    {
     "data": {
      "text/plain": [
       "'Invalid Outcome'"
      ]
     },
     "execution_count": 177,
     "metadata": {},
     "output_type": "execute_result"
    }
   ],
   "source": [
    "hospital_rank(\"MD\",\"xc\",'best')"
   ]
  },
  {
   "cell_type": "code",
   "execution_count": 182,
   "metadata": {},
   "outputs": [
    {
     "data": {
      "text/plain": [
       "'JOHNS HOPKINS HOSPITAL, THE'"
      ]
     },
     "execution_count": 182,
     "metadata": {},
     "output_type": "execute_result"
    }
   ],
   "source": [
    "hospital_rank(\"MD\",\"Heart.attack\",'best')"
   ]
  },
  {
   "cell_type": "code",
   "execution_count": 183,
   "metadata": {},
   "outputs": [
    {
     "data": {
      "text/plain": [
       "'HARFORD MEMORIAL HOSPITAL'"
      ]
     },
     "execution_count": 183,
     "metadata": {},
     "output_type": "execute_result"
    }
   ],
   "source": [
    "hospital_rank(\"MD\",\"Heart.attack\",'worst')"
   ]
  },
  {
   "cell_type": "code",
   "execution_count": 184,
   "metadata": {},
   "outputs": [
    {
     "data": {
      "text/plain": [
       "'HOLY CROSS HOSPITAL'"
      ]
     },
     "execution_count": 184,
     "metadata": {},
     "output_type": "execute_result"
    }
   ],
   "source": [
    "hospital_rank(\"MD\",\"Heart.attack\",4)"
   ]
  },
  {
   "cell_type": "code",
   "execution_count": 185,
   "metadata": {},
   "outputs": [
    {
     "data": {
      "text/plain": [
       "'NA'"
      ]
     },
     "execution_count": 185,
     "metadata": {},
     "output_type": "execute_result"
    }
   ],
   "source": [
    "hospital_rank(\"MD\",\"Heart.attack\",400)"
   ]
  },
  {
   "cell_type": "code",
   "execution_count": null,
   "metadata": {},
   "outputs": [],
   "source": []
  }
 ],
 "metadata": {
  "kernelspec": {
   "display_name": "Python 3",
   "language": "python",
   "name": "python3"
  },
  "language_info": {
   "codemirror_mode": {
    "name": "ipython",
    "version": 3
   },
   "file_extension": ".py",
   "mimetype": "text/x-python",
   "name": "python",
   "nbconvert_exporter": "python",
   "pygments_lexer": "ipython3",
   "version": "3.8.8"
  }
 },
 "nbformat": 4,
 "nbformat_minor": 4
}
