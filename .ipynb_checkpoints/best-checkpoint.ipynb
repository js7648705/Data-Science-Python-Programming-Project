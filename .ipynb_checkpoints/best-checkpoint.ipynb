{
 "cells": [
  {
   "cell_type": "markdown",
   "metadata": {},
   "source": [
    "## Importing required libraries"
   ]
  },
  {
   "cell_type": "code",
   "execution_count": 165,
   "metadata": {},
   "outputs": [],
   "source": [
    "import pandas as pd\n",
    "import numpy as np\n",
    "import matplotlib.pyplot as plt\n",
    "import seaborn as sns\n",
    "%matplotlib inline"
   ]
  },
  {
   "cell_type": "markdown",
   "metadata": {},
   "source": [
    "## Finding the best hospital in a state"
   ]
  },
  {
   "cell_type": "code",
   "execution_count": 2,
   "metadata": {},
   "outputs": [],
   "source": [
    "def best(state,outcome):\n",
    "    # loading csv file\n",
    "    file = pd.read_csv('outcome-of-care-measures.csv') \n",
    "    \n",
    "    # list of csv columns,all columns are character columns-data values are in \n",
    "    # string format converting data into dataframe\n",
    "    list_csv_col = [file.columns[1], file.columns[6],file.columns[10], file.columns[16],\n",
    "                    file.columns[22]]\n",
    "    \n",
    "    # converting list in to a dataframe\n",
    "    df = pd.DataFrame(data = file[list_csv_col]) \n",
    "    \n",
    "    # naming columns-2-5 columns are outcomes\n",
    "    df.columns = ['Hospital.Name','State','Heart.attack', 'Heart.failure ','Pneumonia'] \n",
    "    \n",
    "    \n",
    "    if state not in df['State'].values: \n",
    "        return (\"Invalid Sate\")\n",
    "    \n",
    "    # checking if a outcome is present in column 2-5\n",
    "    elif outcome not in df.columns:\n",
    "         return (\"Invalid Outcome\")\n",
    "        \n",
    "    else:\n",
    "        # slicing dataframe based on condition\n",
    "        df = df[(df['State'] ==state)][['State','Hospital.Name',outcome]] \n",
    "        \n",
    "        # converting character column (numbers are in string format) to numeric,\n",
    "        # and replacing missing values and string (in this case 'Not Available') \n",
    "        # into NAN (setting errors=’coerce)\n",
    "        df[outcome]= pd.to_numeric(df[outcome],errors='coerce') \n",
    "        \n",
    "        # droping missing values from column \"outcome\"\n",
    "        df = df.dropna(subset =[outcome]) \n",
    "        \n",
    "         # sorting dataframe by Hopsital.name first then by outcome\n",
    "        df =df.sort_values(by = [outcome,'Hospital.Name'])\n",
    "        \n",
    "        # creating index valuse from 1 to no. of rows [df1.shape[0]] of df1\n",
    "        df.index = [i for i in range(1, df.shape[0]+1)] \n",
    "        \n",
    "        # extarcting observation corresppond to [row ndex, column index]\n",
    "        hospital_name = df.at[1,'Hospital.Name']\n",
    "        \n",
    "        # output hospital_name\n",
    "        return(hospital_name) "
   ]
  },
  {
   "cell_type": "code",
   "execution_count": 203,
   "metadata": {},
   "outputs": [
    {
     "data": {
      "text/plain": [
       "'MARSHALL MEDICAL CENTER NORTH'"
      ]
     },
     "execution_count": 203,
     "metadata": {},
     "output_type": "execute_result"
    }
   ],
   "source": [
    "best('AL','Pneumonia')"
   ]
  }
 ],
 "metadata": {
  "kernelspec": {
   "display_name": "Python 3",
   "language": "python",
   "name": "python3"
  },
  "language_info": {
   "codemirror_mode": {
    "name": "ipython",
    "version": 3
   },
   "file_extension": ".py",
   "mimetype": "text/x-python",
   "name": "python",
   "nbconvert_exporter": "python",
   "pygments_lexer": "ipython3",
   "version": "3.8.8"
  }
 },
 "nbformat": 4,
 "nbformat_minor": 4
}
